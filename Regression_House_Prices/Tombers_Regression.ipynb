{
  "nbformat": 4,
  "nbformat_minor": 0,
  "metadata": {
    "colab": {
      "name": "Second_Exercise.ipynb",
      "provenance": []
    },
    "kernelspec": {
      "name": "python3",
      "display_name": "Python 3"
    },
    "language_info": {
      "name": "python"
    }
  },
  "cells": [
    {
      "cell_type": "markdown",
      "source": [
        "# Walk-Through and Thoughts\n",
        "Before starting with any analysis one should have a look at the provided data. I first made myself familiar with the documentation and then had a look at all the data using Panda Profiling. The Profiling showed me that their are quite some **missing values**, that a range of numerical values are **not normally distributed** and that there are many categorical features that will need to be **encoded**. When reading the documentation some variables seem to be redundant so that they can be recombined to **new features** with more meaning for our final prediction using a **linear regression** (this model was choosen as the model itself is not the center of the exercise.\n",
        "\n",
        "\n",
        "## Missing Values\n",
        "Many of the features have missing values. Before looking at how to individually handle those, the four columns that had more > 50% of Missing values were immediateley dropped. \n",
        "\n",
        "Looking at the data descriptions I have decided that for \"Funtional\", \"SaleType\", and \"CentralAir\" the nan values were assigned to the baseline categories. \n",
        "\n",
        "For Fireplaces, Masonry, Porch & Garage Features null values were changed to None as one can expect that they are just not existent in this case. \n",
        "\n",
        "In the case of some categorical features the nan was replaced with their own mode: 'Electrical', KitchenQual', 'SaleType', 'SaleCondition', 'Heating', 'MSSubClass, 'Utilities', 'Street', 'MSZoning'. \n",
        "\n",
        "In two cases the nan could be replaces by the medium based on the group: For the material used on the roof the null values were filled with the medium of the roof type. The lot frontage was filled with the medium lenght of street connected to property in the neighborhood of the property. \n",
        "\n",
        "For all other features the nan were replaced with none as I had no intuition to do it otherwise.\n",
        "\n",
        "## Distributions\n",
        "Many machine learning algorithms work better when features are on a relatively similar scale and close to normally distributed as different scales can result in a model that learns large weight values. Further a model with large weight values is often unstable, meaning that it may suffer from poor performance during learning and sensitivity to input values resulting in higher generalization error. \n",
        "\n",
        "Therefore I decided to use a BoxCox transformation on all variables that showed a high skewness and later use a StandardScaler on all Variables. Since a linear regression expects a linear predictor the \"Sale Price\" was logged via a  log(x+1) transformation (in order not to drop rows with zero values)\n",
        "\n",
        "## Feature Creation\n",
        "Before actually modelling the data I created a range of new features. The creations are of two types: recombining existing features to reduce features while increasing meaning and creating new features. \n",
        "\n",
        "First I have created a range of dummies that show the existence of Pool, 2nd Floor, Basement, Porch, Fireplace or Garage. These features are expected to have a higher prediction power then listing special features of those.\n",
        "\n",
        "Then I summarised the quality and condition variable for the Exterior, Garage, Total Home and Overall Quality. Both the quality and condition were on a scale from 1-5, I added both scores to receive a 1-10 scale for the four variables.\n",
        "\n",
        "Further I calculated the Overall squaremeter of the House and the porches as the overall squaremeter seemes to be more relevant than the singular sizes or basement, first, second floor and ifferent porches. Similarly I decided to add the total number of bathrooms instead of counting each category. \n",
        "\n",
        "Lastly I added the logged sqft size of the house and the lot frontage as one can expect the overall increase in price to be less steep for large houses and longer frontages. Following the same idea i added the squared age of the home as one can expect house prices to drop by age however to raise for very old houses again.\n",
        "\n",
        "After all of this I have encoded all the categorical features. This resulted in 312 columns which is quite a lot. \n",
        "\n",
        "\n",
        "## Model\n",
        "Because of the large number of features I decided to deduct a Principal Component analysis. The PCA changes the variables to components that explain the largest variance of the predicor. The final linear regression shows a mean R^2 of 0.805"
      ],
      "metadata": {
        "id": "a0EmrYcs47X0"
      }
    },
    {
      "cell_type": "markdown",
      "source": [
        "# 0. Organisationals"
      ],
      "metadata": {
        "id": "5kUQ6Qx7zMlu"
      }
    },
    {
      "cell_type": "code",
      "source": [
        "## Import Modules\n",
        "import pandas as pd\n",
        "import seaborn as sns\n",
        "import matplotlib.pyplot as plt\n",
        "import warnings\n",
        "warnings.filterwarnings('ignore')\n",
        "import numpy as np\n",
        "from pandas_profiling import ProfileReport\n",
        "from scipy.stats import skew, norm\n",
        "from scipy.special import boxcox1p\n",
        "from scipy.stats import boxcox_normmax\n",
        "from sklearn.svm import SVC\n",
        "from sklearn.preprocessing import StandardScaler\n",
        "from sklearn.model_selection import train_test_split\n",
        "from sklearn.model_selection import GridSearchCV\n",
        "from sklearn.model_selection import cross_val_score\n",
        "from sklearn.pipeline import make_pipeline\n",
        "from sklearn.pipeline import Pipeline\n",
        "from sklearn import metrics\n",
        "from sklearn.linear_model import LogisticRegressionCV\n",
        "from sklearn.linear_model import LinearRegression\n",
        "from sklearn.preprocessing import StandardScaler\n",
        "from sklearn.decomposition import PCA"
      ],
      "metadata": {
        "id": "_eZ5gMShduZe"
      },
      "execution_count": null,
      "outputs": []
    },
    {
      "cell_type": "code",
      "source": [
        "## Import Dataset\n",
        "df = pd.read_csv('dataset.csv', index_col = 'Id')\n",
        "df.shape"
      ],
      "metadata": {
        "id": "grSY8YfEPQwE",
        "colab": {
          "base_uri": "https://localhost:8080/"
        },
        "outputId": "adea41e4-878f-47d8-ae3b-673ae1fd6b6c"
      },
      "execution_count": null,
      "outputs": [
        {
          "output_type": "execute_result",
          "data": {
            "text/plain": [
              "(1460, 80)"
            ]
          },
          "metadata": {},
          "execution_count": 418
        }
      ]
    },
    {
      "cell_type": "code",
      "source": [
        "## This is a Function I will reuse to determine only the numeric data types\n",
        "def find_numeric(df):\n",
        "  numeric_dtypes = ['int16', 'int32', 'int64', 'float16', 'float32', 'float64']\n",
        "  numeric = []\n",
        "  for i in df.columns:\n",
        "    if df[i].dtype in numeric_dtypes:\n",
        "      numeric.append(i)\n",
        "  numeric_colums = df[numeric]\n",
        "  return numeric, numeric_colums"
      ],
      "metadata": {
        "id": "WXRQIO1CPUtC"
      },
      "execution_count": null,
      "outputs": []
    },
    {
      "cell_type": "markdown",
      "source": [
        "## 1. Having a look at the data"
      ],
      "metadata": {
        "id": "XoWSY0VwzRNb"
      }
    },
    {
      "cell_type": "code",
      "source": [
        "## Data Analysis via Panda Profiling\n",
        "#prof = ProfileReport(df)\n",
        "#prof.to_file(output_file='output.html')"
      ],
      "metadata": {
        "id": "5NOQZ4QC4ITM"
      },
      "execution_count": null,
      "outputs": []
    },
    {
      "cell_type": "code",
      "source": [
        "## Having look at the Variable I want to predict\n",
        "#Sales Price is skewed but normal distributions are more useful, therefore I will use a log 1+x transformation (to avoid = 0 errors)\n",
        "df['SalePrice'] = np.log1p(df[\"SalePrice\"])\n",
        "sns.distplot(df['SalePrice'])"
      ],
      "metadata": {
        "colab": {
          "base_uri": "https://localhost:8080/",
          "height": 525
        },
        "id": "99JsKPpygwME",
        "outputId": "98d4577c-c6ad-437a-b47d-5d69626588e1"
      },
      "execution_count": null,
      "outputs": [
        {
          "output_type": "execute_result",
          "data": {
            "text/plain": [
              "<matplotlib.axes._subplots.AxesSubplot at 0x7fc4ed6cdc50>"
            ]
          },
          "metadata": {},
          "execution_count": 420
        },
        {
          "output_type": "display_data",
          "data": {
            "image/png": "[encoded data removed]",
            "text/plain": [
              "<Figure size 800x550 with 1 Axes>"
            ]
          },
          "metadata": {}
        }
      ]
    },
    {
      "cell_type": "code",
      "source": [
        "## Some of the non-numeric predictors are stored as numbers; convert them into strings \n",
        "df['MSSubClass'] = df['MSSubClass'].apply(str)\n",
        "df['MoSold'] = df['MoSold'].astype(str)"
      ],
      "metadata": {
        "id": "F1hDlJOqEFeN"
      },
      "execution_count": null,
      "outputs": []
    },
    {
      "cell_type": "markdown",
      "source": [
        "## 2. Deadling with Missing values"
      ],
      "metadata": {
        "id": "Z-G5c7Xgzes_"
      }
    },
    {
      "cell_type": "code",
      "execution_count": null,
      "metadata": {
        "id": "bKf8g437dlAg"
      },
      "outputs": [],
      "source": [
        "## There seem to be columns with a lot of NaN, I want to know how much NaN per column\n",
        "NAN = [(column, df[column].isna().mean()) for column in df]\n",
        "NAN = pd.DataFrame(NAN, columns=[\"column\", \"NaN_percentage\"])\n",
        "NAN = NAN[NAN.NaN_percentage > 0.5]\n",
        "\n",
        "## I am deleting all columns that have at least 50% NaN\n",
        "columns_with_high_NaN_to_drop = []\n",
        "for index, row in NAN.iterrows():\n",
        "    columns_with_high_NaN_to_drop.append(row['column'])\n",
        "\n",
        "df=df.drop(columns = columns_with_high_NaN_to_drop)"
      ]
    },
    {
      "cell_type": "code",
      "source": [
        "## Manually dealing with missing values\n",
        "# Choose category that baseline refers to\n",
        "df['Functional'] = df['Functional'].fillna('Typ') \n",
        "df['SaleType'] = df['SaleType'].fillna('Other') \n",
        "df['CentralAir'] = df['CentralAir'].fillna('No') \n",
        "\n",
        "# Replace the null values with None as I expect that there is no Garage, Basement, Fireplace or Decks and therefore not applicable\n",
        "for feature in ['GarageType', 'GarageFinish', 'GarageQual', 'GarageCond',\n",
        "                'BsmtQual', 'BsmtCond', 'BsmtExposure', 'BsmtFinType1', 'BsmtFinType2',\n",
        "                'Fireplaces', 'FireplaceQu',\n",
        "                'WoodDeckSF', 'OpenPorchSF', 'EnclosedPorch', '3SsnPorch', 'ScreenPorch']:\n",
        "  df[feature] = df[feature].fillna('None')\n",
        "df['MasVnrArea'] = df['MasVnrArea'].fillna(0) #0 because its numerical\n",
        "df['MasVnrArea'] = df['MasVnrArea'].astype(int)"
      ],
      "metadata": {
        "id": "zyY-62HACFpe"
      },
      "execution_count": null,
      "outputs": []
    },
    {
      "cell_type": "code",
      "source": [
        "# Replace the the missing values in each of the columns below with their mode as its the most common type\n",
        "def mode_for_null(column):\n",
        "  df[column] = df[column].fillna(df[column].mode()[0])\n",
        "\n",
        "mode_for_null('Electrical')\n",
        "mode_for_null('KitchenQual')\n",
        "mode_for_null('SaleType')\n",
        "mode_for_null('SaleCondition')\n",
        "mode_for_null('Heating')\n",
        "mode_for_null('MSSubClass')\n",
        "mode_for_null('Utilities')\n",
        "mode_for_null('Street')\n",
        "mode_for_null('MSZoning')\n",
        "\n",
        "# Replace the the missing values in each of the columns below with the medium of their group\n",
        "# LotFrontage: Linear feet of street connected to property, I expect that this is similar for neighbors\n",
        "df['LotFrontage'] = df.groupby('Neighborhood')['LotFrontage'].transform(lambda x: x.fillna(x.median()))\n",
        "\n",
        "# Filling Roofmaterial Nones with most common material for RoofStyle\n",
        "df['RoofMatl'] = df.groupby('RoofStyle')['RoofMatl'].transform(lambda x: x.fillna(x.mode()[0]))"
      ],
      "metadata": {
        "id": "eNAol7hV_yvE"
      },
      "execution_count": null,
      "outputs": []
    },
    {
      "cell_type": "code",
      "source": [
        "# I have no intuition around how to fill in the rest of the categorical features\n",
        "df = df.fillna('None')"
      ],
      "metadata": {
        "id": "iK_rCevR_51s"
      },
      "execution_count": null,
      "outputs": []
    },
    {
      "cell_type": "markdown",
      "source": [
        "## 3. Normalising Distribution of Features"
      ],
      "metadata": {
        "id": "lV5WfaYrzx8Q"
      }
    },
    {
      "cell_type": "code",
      "source": [
        "# Find first all numerical features\n",
        "numeric, numeric_colums = find_numeric(df)"
      ],
      "metadata": {
        "id": "KJ9-QlL1z70d"
      },
      "execution_count": null,
      "outputs": []
    },
    {
      "cell_type": "code",
      "source": [
        "## Test Which numerical features are skews\n",
        "skew_of_numeric_features = df[numeric].apply(lambda x: skew(x)).sort_values(ascending=False)\n",
        "high_skew = skew_of_numeric_features[skew_of_numeric_features > 0.7]\n",
        "print(\"There are {} numerical features with Skew > 0.7 :\".format(high_skew.shape[0]))"
      ],
      "metadata": {
        "colab": {
          "base_uri": "https://localhost:8080/"
        },
        "id": "rOqZJepwG0tM",
        "outputId": "4d3c97b0-1053-43eb-a9e0-1260958eb0ff"
      },
      "execution_count": null,
      "outputs": [
        {
          "output_type": "stream",
          "name": "stdout",
          "text": [
            "There are 20 numerical features with Skew > 0.7 :\n"
          ]
        }
      ]
    },
    {
      "cell_type": "code",
      "source": [
        "## Normalise all those\n",
        "skew_index = high_skew.index\n",
        "for i in skew_index:\n",
        "    df[i] = boxcox1p(df[i], boxcox_normmax(df[i] + 1))"
      ],
      "metadata": {
        "id": "1Szm9S6VG5yX"
      },
      "execution_count": null,
      "outputs": []
    },
    {
      "cell_type": "markdown",
      "source": [
        "## 5. Create New Features"
      ],
      "metadata": {
        "id": "1tGJJmDhz78C"
      }
    },
    {
      "cell_type": "code",
      "source": [
        "## No of years Since Remocel at time of Selling & Age of the house at time of selling. Dropping the year remodelling and build but keep yrsold for seasonal influence\n",
        "df['YearsSinceRemodel'] = df['YrSold'].astype(int) - df['YearRemodAdd'].astype(int)\n",
        "df['Age_Sold'] = df['YrSold'].astype(int) - df['YearBuilt'].astype(int)"
      ],
      "metadata": {
        "id": "HOKjZAtpz959"
      },
      "execution_count": null,
      "outputs": []
    },
    {
      "cell_type": "code",
      "source": [
        "## Summarizing Features\n",
        "## Total Size of the House\n",
        "df['Totalsize'] = df['TotalBsmtSF'] + df['1stFlrSF'] + df['2ndFlrSF']\n",
        "## No Of all bathrooms and all Porches\n",
        "df['No_Bathrooms'] = (df['FullBath'] + df['HalfBath'] + df['BsmtFullBath'] +df['BsmtHalfBath'])\n",
        "df['No_Porches'] = (df['OpenPorchSF'] + df['3SsnPorch'] + df['EnclosedPorch'] + df['ScreenPorch'] + df['WoodDeckSF'])\n",
        "\n",
        "# The two kinds Quality & Condition are on the same scale, therefore I endode and summarise\n",
        "def encode_type(x):\n",
        "    if x == 'Ex':\n",
        "        return 5\n",
        "    if x == 'Gd':\n",
        "        return 4\n",
        "    if x == 'TA':\n",
        "        return 3\n",
        "    if x == 'Fa':\n",
        "        return 2\n",
        "    if x == 'Po':\n",
        "        return 1\n",
        "    else:\n",
        "      return None\n",
        "df['BsmtCond'] = df['BsmtCond'].transform(encode_type)\n",
        "df['BsmtQual'] = df['BsmtQual'].transform(encode_type)\n",
        "df['Total_Basement_Quality'] = df['BsmtCond'] + df['BsmtQual']\n",
        "\n",
        "df['ExterQual'] = df['ExterQual'].transform(encode_type)\n",
        "df['ExterCond'] = df['ExterCond'].transform(encode_type)\n",
        "df['Total_Extern_Quality'] = df['ExterQual'] + df['ExterCond']\n",
        "\n",
        "df['GarageCond'] = df['GarageCond'].transform(encode_type)\n",
        "df['GarageQual'] = df['GarageQual'].transform(encode_type)\n",
        "df['Total_Garage_Cond'] = df['GarageQual'] + df['GarageCond']\n",
        "\n",
        "df['Total_Home_Quality'] = df['OverallQual'] + df['OverallCond']"
      ],
      "metadata": {
        "id": "MWw0d9JiVY-J"
      },
      "execution_count": null,
      "outputs": []
    },
    {
      "cell_type": "code",
      "source": [
        "## Creating Dummy Categories for showing that something exists\n",
        "df['haspool'] = df['PoolArea'].apply(lambda x: 1 if x > 0 else 0)\n",
        "df['has2ndfloor'] = df['2ndFlrSF'].apply(lambda x: 1 if x > 0 else 0)\n",
        "df['hasgarage'] = df['GarageArea'].apply(lambda x: 1 if x > 0 else 0)\n",
        "df['hasbsmt'] = df['TotalBsmtSF'].apply(lambda x: 1 if x > 0 else 0)\n",
        "df['hasfireplace'] = df['Fireplaces'].apply(lambda x: 1 if x > 0 else 0)\n",
        "df['hasporch'] = df['No_Porches'].apply(lambda x: 1 if x > 0 else 0)"
      ],
      "metadata": {
        "id": "af6ReBLWVVfZ"
      },
      "execution_count": null,
      "outputs": []
    },
    {
      "cell_type": "code",
      "source": [
        "## Calculating the log and square transformations of some numerical features\n",
        "# Logarithmic where higher numbers dont have the same added influence \n",
        "df['LotFrontage_log'] = np.log(df[\"LotFrontage\"]) #\n",
        "df['Totalsize_log'] = np.log(df[\"Totalsize\"])\n",
        "\n",
        "## Squared where Relationship could be u-shaped\n",
        "df['Age_Sold_sqrt'] = df['Age_Sold']**2 # First older houses probably worse than better"
      ],
      "metadata": {
        "id": "3WWBUQu4VaZk"
      },
      "execution_count": null,
      "outputs": []
    },
    {
      "cell_type": "code",
      "source": [
        "## Filling the NA that might arived through adding filled with None\n",
        "df = df.fillna('None')"
      ],
      "metadata": {
        "id": "301gIe9ca8QG"
      },
      "execution_count": null,
      "outputs": []
    },
    {
      "cell_type": "markdown",
      "source": [
        "## 6. Encode Categorical Features"
      ],
      "metadata": {
        "id": "eBF-TlMRz-Ff"
      }
    },
    {
      "cell_type": "code",
      "source": [
        "## Encode all non-numerical and check for corrleation\n",
        "objects = []\n",
        "for i in df.columns:\n",
        "  if df[i].dtype not in ['int16', 'int32', 'int64', 'float16', 'float32', 'float64']:\n",
        "    objects.append(i)\n",
        "objects\n",
        "final_data = pd.get_dummies(df, columns = objects).reset_index(drop=True)"
      ],
      "metadata": {
        "id": "SDcilfkqXmJj"
      },
      "execution_count": null,
      "outputs": []
    },
    {
      "cell_type": "markdown",
      "source": [
        "# 7. Model"
      ],
      "metadata": {
        "id": "2OhilqVhim5-"
      }
    },
    {
      "cell_type": "code",
      "source": [
        "##Create Train Test Slit\n",
        "Y = final_data['SalePrice']\n",
        "X = final_data.drop(['SalePrice'], axis=1)\n",
        "X_train, X_test, y_train, y_test = train_test_split(X, Y, random_state=17)"
      ],
      "metadata": {
        "id": "1TlRhiPiivUB"
      },
      "execution_count": null,
      "outputs": []
    },
    {
      "cell_type": "code",
      "source": [
        "## Use PCA to reduce Feature Set to the most important 70% and then run a basic Linear Regression \n",
        "_sc = StandardScaler()\n",
        "_pca = PCA(n_components = 0.99)\n",
        "_model = LinearRegression()\n",
        "\n",
        "lin_regress_model = Pipeline([\n",
        "    ('std_scaler', _sc),\n",
        "    ('pca', _pca),\n",
        "    ('regressor', _model)\n",
        "])\n",
        "lin_regress_model.fit(X_train,y_train)"
      ],
      "metadata": {
        "colab": {
          "base_uri": "https://localhost:8080/"
        },
        "id": "k_1jdqJYy8Zm",
        "outputId": "a807dfbe-0b87-4492-dc66-138cf4f85d22"
      },
      "execution_count": null,
      "outputs": [
        {
          "output_type": "execute_result",
          "data": {
            "text/plain": [
              "Pipeline(steps=[('std_scaler', StandardScaler()),\n",
              "                ('pca', PCA(n_components=0.99)),\n",
              "                ('regressor', LinearRegression())])"
            ]
          },
          "metadata": {},
          "execution_count": 443
        }
      ]
    },
    {
      "cell_type": "code",
      "source": [
        "## Getting the Final R-squared\n",
        "logres_model_scores = cross_val_score(lin_regress_model, \n",
        "                                      X_test, y_test, cv = 5)\n",
        "np.mean(logres_model_scores)"
      ],
      "metadata": {
        "colab": {
          "base_uri": "https://localhost:8080/"
        },
        "id": "fg3Xrk2439Iu",
        "outputId": "4a8d6738-0339-4988-d74c-fa7ce21b9401"
      },
      "execution_count": 448,
      "outputs": [
        {
          "output_type": "execute_result",
          "data": {
            "text/plain": [
              "0.8046975476493738"
            ]
          },
          "metadata": {},
          "execution_count": 448
        }
      ]
    }
  ]
}